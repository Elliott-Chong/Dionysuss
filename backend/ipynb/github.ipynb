{
 "cells": [
  {
   "cell_type": "code",
   "execution_count": 16,
   "metadata": {},
   "outputs": [],
   "source": [
    "def getCommitDiff(commit_sha):\n",
    "    import requests\n",
    "    response = requests.get(f'https://github.com/elliott-chong/astro-personal-portfolio/commit/{commit_sha}.diff', headers={\n",
    "        \"Accept\": \"application/vnd.github.v3.diff\",\n",
    "        \"Authorization\": \"\"\n",
    "    })\n",
    "    return str(response.content)"
   ]
  },
  {
   "cell_type": "code",
   "execution_count": 22,
   "metadata": {},
   "outputs": [
    {
     "name": "stdout",
     "output_type": "stream",
     "text": [
      "commit dd8a28fd722d31485919cbc6add3f8ebb2e424b0\n",
      "commit 7160107035074d2702c090a3ed800f55a7d379a8\n",
      "commit 60ebdbd47aa263d08e20d8514726d4ef70b0e65f\n"
     ]
    }
   ],
   "source": [
    "from github import Github\n",
    "\n",
    "# Authentication is defined via github.Auth\n",
    "from github import Auth\n",
    "\n",
    "# using an access token\n",
    "auth = Auth.Token(\"\")\n",
    "#\n",
    "# First create a Github instance:\n",
    "\n",
    "# Public Web Github\n",
    "# g = Github()\n",
    "g = Github(auth=auth)\n",
    "\n",
    "\n",
    "# Then play with your Github objects:\n",
    "repo = g.get_repo(\"elliott-chong/quizmify-youtube\")\n",
    "commits = repo.get_commits()\n",
    "# print(commits)\n",
    "for commit in commits:\n",
    "#     # print(commit.files[0].additions)\n",
    "    print('commit', commit.committer.)\n",
    "    # print(getCommitDiff(commit.sha))\n",
    "#     print(commit.commit.ur)\n",
    "#         # print('file deletions for', file.filename, file._ch)\n",
    "#     print('\\n\\n')\n",
    "\n",
    "# To close connections after use\n",
    "g.close()"
   ]
  },
  {
   "cell_type": "code",
   "execution_count": 15,
   "metadata": {},
   "outputs": [
    {
     "name": "stdout",
     "output_type": "stream",
     "text": [
      "b'diff --git a/src/pages/projects.astro b/src/pages/projects.astro\\nindex cce63ec..00fb533 100644\\n--- a/src/pages/projects.astro\\n+++ b/src/pages/projects.astro\\n@@ -67,7 +67,7 @@ const sortedProjects = allProjects.sort((a, b) => {\\n                       rel=\"noopener noreferrer\"\\n                       class=\"transition-all cursor-pointer text-white bg-gradient-to-r from-green-500 via-green-600 to-green-700 hover:bg-gradient-to-br focus:ring-4 focus:outline-none focus:ring-blue-300 dark:focus:ring-blue-800 font-medium rounded-md text-sm px-5 py-2.5 text-center mr-2 mb-2 whitespace-nowrap\"\\n                     >\\n-                      Link to demo\\n+                      Link to Demo\\n                     </a>\\n                   )}\\n                   {codeLink && (\\n'\n"
     ]
    }
   ],
   "source": []
  },
  {
   "cell_type": "code",
   "execution_count": 21,
   "metadata": {},
   "outputs": [
    {
     "name": "stdout",
     "output_type": "stream",
     "text": [
      "{\n",
      "  \"id\": \"chatcmpl-8H6hnyvSqyu1WjnCLOTfC6fFzEdjR\",\n",
      "  \"object\": \"chat.completion\",\n",
      "  \"created\": 1699088043,\n",
      "  \"model\": \"gpt-3.5-turbo-16k-0613\",\n",
      "  \"choices\": [\n",
      "    {\n",
      "      \"index\": 0,\n",
      "      \"message\": {\n",
      "        \"role\": \"assistant\",\n",
      "        \"content\": \"* Added \\\"text-center\\\" class to the \\\"p\\\" element in the Footer component [src/components/Footer.astro]\\n* Added \\\"max-w-screen-sm\\\" class to the nav element in the Navigation component [src/components/Navigation.astro]\\n* Removed \\\"mt-6\\\" class from the first div in the index page [src/pages/index.astro]\\n* Added \\\"w-fit\\\" class to the h1 element in the first div in the index page [src/pages/index.astro]\\n* Added \\\"text-center\\\" class to the p element in the first div in the index page [src/pages/index.astro]\\n* Changed the className value of the ButtonLink component in the first div in the index page [src/pages/index.astro]\\n* Removed \\\"text-center\\\" class from the h2 element in the second div in the index page [src/pages/index.astro]\\n* Added \\\"font-bold\\\" to the h2 element in the second div in the index page [src/pages/index.astro]\\n* Removed \\\"md:text-left\\\" class from the div element in the projects page [src/pages/projects.astro]\\n* Changed the class attribute value of the h1 element in the projects page [src/pages/projects.astro]\\n* Added \\\"md:text-3xl\\\" class to the h1 element in the projects page [src/pages/projects.astro]\\n* Changed the className value of the h1 element in the projects/[...slug] page [src/pages/projects/[...slug].astro]\\n* Added \\\"md:text-3xl\\\" class to the h1 element in the projects/[...slug] page [src/pages/projects/[...slug].astro]\"\n",
      "      },\n",
      "      \"finish_reason\": \"stop\"\n",
      "    }\n",
      "  ],\n",
      "  \"usage\": {\n",
      "    \"prompt_tokens\": 1534,\n",
      "    \"completion_tokens\": 335,\n",
      "    \"total_tokens\": 1869\n",
      "  }\n",
      "}\n"
     ]
    }
   ],
   "source": [
    "from dotenv import load_dotenv\n",
    "import os\n",
    "import openai\n",
    "# diff = b'diff --git a/src/pages/projects.astro b/src/pages/projects.astro\\nindex cce63ec..00fb533 100644\\n--- a/src/pages/projects.astro\\n+++ b/src/pages/projects.astro\\n@@ -67,7 +67,7 @@ const sortedProjects = allProjects.sort((a, b) => {\\n                       rel=\"noopener noreferrer\"\\n                       class=\"transition-all cursor-pointer text-white bg-gradient-to-r from-green-500 via-green-600 to-green-700 hover:bg-gradient-to-br focus:ring-4 focus:outline-none focus:ring-blue-300 dark:focus:ring-blue-800 font-medium rounded-md text-sm px-5 py-2.5 text-center mr-2 mb-2 whitespace-nowrap\"\\n                     >\\n-                      Link to demo\\n+                      Link to Demo\\n                     </a>\\n                   )}\\n                   {codeLink && (\\n'\n",
    "diff = b'diff --git a/src/components/Footer.astro b/src/components/Footer.astro\\nindex 569660e..7867ca7 100644\\n--- a/src/components/Footer.astro\\n+++ b/src/components/Footer.astro\\n@@ -50,7 +50,7 @@ const year = new Date().getFullYear();\\n         />\\n       </a>\\n     </ul>\\n-    <p class=\"text-gray-400 text-sm inline-flex mt-4 md:mt-0\">\\n+    <p class=\"text-gray-400 text-sm inline-flex mt-4 md:mt-0 text-center\">\\n       \\xc2\\xa9 {year} Elliott Chong. All rights reserved.\\n     </p>\\n   </div>\\ndiff --git a/src/components/Navigation.astro b/src/components/Navigation.astro\\nindex b9431e6..244d966 100644\\n--- a/src/components/Navigation.astro\\n+++ b/src/components/Navigation.astro\\n@@ -15,9 +15,9 @@ const links = [\\n \\n <div class=\"w-full\">\\n   <nav\\n-    class=\"lg:max-w-screen-lg text-white flex mx-auto items-end py-4 w-fit md:w-full\"\\n+    class=\"lg:max-w-screen-lg text-white flex mx-auto items-end py-4 w-fit md:w-full max-w-screen-sm\"\\n   >\\n-    <a href=\"/\" class=\"text-4xl text-terminal-green font-bold\">\\n+    <a href=\"/\" class=\"md:text-3xl text-2xl text-terminal-green font-bold\">\\n       Elliott.Chong()\\n     </a>\\n     <ul class=\"gap-4 hidden md:flex ml-8\">\\ndiff --git a/src/pages/index.astro b/src/pages/index.astro\\nindex 99101da..2b3487d 100644\\n--- a/src/pages/index.astro\\n+++ b/src/pages/index.astro\\n@@ -15,20 +15,22 @@ recent_projects = recent_projects\\n \\n <Layout title=\"Elliott Chong\">\\n   <div\\n-    class=\"flex md:flex-row gap-16 items-center flex-col justify-center mt-6\"\\n+    class=\"flex md:flex-row gap-16 items-center flex-col justify-center mt-0 md:mt-6\"\\n   >\\n     <!-- hero description -->\\n-    <div class=\"flex-[3]\">\\n+    <div class=\"flex-[3] flex flex-col\">\\n       <h1\\n-        class=\"typewrite text-5xl font-bold text-terminal-green md:inline-flex hidden\"\\n+        class=\"typewrite text-5xl font-bold text-terminal-green md:inline-flex hidden w-fit\"\\n       >\\n         Elliott Chong.\\n       </h1>\\n-      <p class=\"mt-2\">Computer Science enthusiast, web designer hobbyist</p>\\n+      <p class=\"mt-2 text-center md:text-left\">\\n+        Computer Science enthusiast, web designer hobbyist\\n+      </p>\\n       <ButtonLink\\n         label=\"View CV\"\\n         link=\"/Elliott Chong CV.pdf\"\\n-        className={\"font-bold mt-4\"}\\n+        className={\"font-bold mt-4 self-center md:self-start\"}\\n       />\\n     </div>\\n \\n@@ -65,9 +67,7 @@ recent_projects = recent_projects\\n             </div>\\n             <div class=\"flex flex-col flex-[5] justify-center md:items-start items-center gap-x-8 \">\\n               <div class=\"flex gap-2 md:flex-row flex-col items-center flex-wrap\">\\n-                <h2 class=\"text-xl font-semibold whitespace-nowrap\">\\n-                  {data.title}\\n-                </h2>\\n+                <h2 class=\"text-xl font-semibold text-center\">{data.title}</h2>\\n                 <div class=\"flex gap-2 flex-wrap justify-center\">\\n                   {data.tags.map((tag: string) => {\\n                     return (\\ndiff --git a/src/pages/projects.astro b/src/pages/projects.astro\\nindex 137a9a7..cce63ec 100644\\n--- a/src/pages/projects.astro\\n+++ b/src/pages/projects.astro\\n@@ -11,7 +11,9 @@ const sortedProjects = allProjects.sort((a, b) => {\\n \\n <Layout title=\"Elliott Chong | Projects\">\\n   <div class=\"text-center text-white md:text-left\">\\n-    <h1 class=\"text-3xl font-bold\">View all of my projects here!</h1>\\n+    <h1 class=\"text-2xl md:text-3xl font-bold\">\\n+      View all of my projects here!\\n+    </h1>\\n     <div class=\"mt-3 text-gray-400\">\\n       I love building visual projects to showcase the beauty of programming ;)\\n     </div>\\ndiff --git a/src/pages/projects/[...slug].astro b/src/pages/projects/[...slug].astro\\nindex 72c5ff7..0e35033 100644\\n--- a/src/pages/projects/[...slug].astro\\n+++ b/src/pages/projects/[...slug].astro\\n@@ -16,7 +16,7 @@ const { Content } = await entry.render();\\n \\n <Layout title={`Elliott Chong | ${entry.data.title}`}>\\n   <div class=\"text-center\">\\n-    <h1 class=\"text-3xl font-bold\">{entry.data.title}</h1>\\n+    <h1 class=\"md:text-3xl text-xl font-bold\">{entry.data.title}</h1>\\n     <p class=\"text-gray-400\">{new Date(entry.data.timestamp).toDateString()}</p>\\n     <div class=\"flex gap-2 mt-3 flex-wrap justify-center\">\\n       {\\n'\n",
    "\n",
    "load_dotenv()\n",
    "openai.api_key = os.getenv(\"OPENAI_API_KEY\")\n",
    "\n",
    "\n",
    "response = openai.ChatCompletion.create(\n",
    "    model=\"gpt-3.5-turbo-16k\",\n",
    "        messages=[\n",
    "            {\n",
    "                \"role\": \"system\",\n",
    "                \"content\": \"\"\"You are an expert programmer, and you are trying to summarize a git diff.\n",
    "Reminders about the git diff format:\n",
    "For every file, there are a few metadata lines, like (for example):\n",
    "```\n",
    "diff --git a/lib/index.js b/lib/index.js\n",
    "index aadf691..bfef603 100644\n",
    "--- a/lib/index.js\n",
    "+++ b/lib/index.js\n",
    "```\n",
    "This means that `lib/index.js` was modified in this commit. Note that this is only an example.\n",
    "Then there is a specifier of the lines that were modified.\n",
    "A line starting with `+` means it was added.\n",
    "A line that starting with `-` means that line was deleted.\n",
    "A line that starts with neither `+` nor `-` is code given for context and better understanding.\n",
    "It is not part of the diff.\n",
    "[...]\n",
    "EXAMPLE SUMMARY COMMENTS:\n",
    "```\n",
    "* Raised the amount of returned recordings from `10` to `100` [packages/server/recordings_api.ts], [packages/server/constants.ts]\n",
    "* Fixed a typo in the github action name [.github/workflows/gpt-commit-summarizer.yml]\n",
    "* Moved the `octokit` initialization to a separate file [src/octokit.ts], [src/index.ts]\n",
    "* Added an OpenAI API for completions [packages/utils/apis/openai.ts]\n",
    "* Lowered numeric tolerance for test files\n",
    "```\n",
    "Most commits will have less comments than this examples list.\n",
    "The last comment does not include the file names,\n",
    "because there were more than two relevant files in the hypothetical commit.\n",
    "Do not include parts of the example in your summary.\n",
    "It is given only as an example of appropriate comments.\"\"\",\n",
    "            },\n",
    "            {\n",
    "                \"role\": \"user\",\n",
    "                \"content\": f\"\"\"Please summarise the following diff file: \\n\\n{diff.decode('utf-8')}\n",
    "                \n",
    "                \"\"\",\n",
    "            },\n",
    "        ],\n",
    ")\n",
    "\n",
    "print(response)"
   ]
  }
 ],
 "metadata": {
  "kernelspec": {
   "display_name": "lanes-backend",
   "language": "python",
   "name": "python3"
  },
  "language_info": {
   "codemirror_mode": {
    "name": "ipython",
    "version": 3
   },
   "file_extension": ".py",
   "mimetype": "text/x-python",
   "name": "python",
   "nbconvert_exporter": "python",
   "pygments_lexer": "ipython3",
   "version": "3.10.13"
  }
 },
 "nbformat": 4,
 "nbformat_minor": 2
}
