{
 "cells": [
  {
   "cell_type": "code",
   "execution_count": 4,
   "metadata": {},
   "outputs": [],
   "source": [
    "from git import Repo\n",
    "from langchain.document_loaders import GitLoader\n",
    "import os\n",
    "from dotenv import load_dotenv\n",
    "\n",
    "load_dotenv()\n",
    "\n",
    "\n",
    "def file_filter(file_path):\n",
    "    ignore_filepaths = [\"package-lock.json\"]\n",
    "    # return file_path.endswith(\".md\")\n",
    "    for ignore_filepath in ignore_filepaths:\n",
    "        if ignore_filepath in file_path:\n",
    "            return False\n",
    "    return True\n",
    "\n",
    "\n",
    "class GithubLoader:\n",
    "    def __init__(self):\n",
    "        \"\"\"\n",
    "        this class is responsible for loading in a github repository\n",
    "        \"\"\"\n",
    "\n",
    "    def load(self, url: str):\n",
    "        tmp_path = f\"/tmp/github_repo\"\n",
    "        # remove the folder if it exists\n",
    "        if os.path.exists(tmp_path):\n",
    "            os.system(f\"rm -rf {tmp_path}\")\n",
    "        repo = Repo.clone_from(\n",
    "            url,\n",
    "            to_path=tmp_path,\n",
    "        )\n",
    "        branch = repo.head.reference\n",
    "\n",
    "        loader = GitLoader(repo_path=tmp_path, branch=branch, file_filter=file_filter)\n",
    "        return loader\n",
    "\n"
   ]
  },
  {
   "cell_type": "code",
   "execution_count": 5,
   "metadata": {},
   "outputs": [
    {
     "data": {
      "text/plain": [
       "['.env',\n",
       " '.gitignore',\n",
       " 'README.md',\n",
       " 'index.html',\n",
       " 'package.json',\n",
       " 'postcss.config.cjs',\n",
       " 'tailwind.config.cjs',\n",
       " 'vite.config.js',\n",
       " 'public/_redirects',\n",
       " 'public/vite.svg',\n",
       " 'src/App.jsx',\n",
       " 'src/index.css',\n",
       " 'src/main.jsx',\n",
       " 'src/assets/react.svg',\n",
       " 'src/components/Card.jsx',\n",
       " 'src/components/CodeEditor.jsx',\n",
       " 'src/components/CreateClass.jsx',\n",
       " 'src/components/Header.jsx',\n",
       " 'src/components/Output.jsx',\n",
       " 'src/components/SelectLanguage.jsx',\n",
       " 'src/components/ToggleThemeButton.jsx',\n",
       " 'src/context/ContextProvider.jsx',\n",
       " 'src/hooks/useWindowSize.js',\n",
       " 'src/pages/Editor.jsx',\n",
       " 'src/pages/Home.jsx',\n",
       " 'src/pb/pocketbase.js']"
      ]
     },
     "execution_count": 5,
     "metadata": {},
     "output_type": "execute_result"
    }
   ],
   "source": [
    "github_loader = GithubLoader()\n",
    "loader = github_loader.load(\"https://github.com/travisleow/codehub\")\n",
    "docs = loader.load()\n",
    "file_tree = [doc.metadata['source'] for doc in docs]\n",
    "file_tree"
   ]
  },
  {
   "cell_type": "code",
   "execution_count": 10,
   "metadata": {},
   "outputs": [],
   "source": [
    "def generate_file_tree_graph(file_tree):\n",
    "    graph = \"graph TD;\\n\"\n",
    "\n",
    "    for item in file_tree:\n",
    "        if '/' in item:\n",
    "            parent_dir, current_dir = item.rsplit('/', 1)\n",
    "            graph += f\"    {parent_dir}-->{current_dir}\\n\"\n",
    "\n",
    "    return graph"
   ]
  },
  {
   "cell_type": "code",
   "execution_count": 12,
   "metadata": {},
   "outputs": [
    {
     "name": "stdout",
     "output_type": "stream",
     "text": [
      "graph TD;\n",
      "    public-->_redirects\n",
      "    public-->vite.svg\n",
      "    src-->App.jsx\n",
      "    src-->index.css\n",
      "    src-->main.jsx\n",
      "    src/assets-->react.svg\n",
      "    src/components-->Card.jsx\n",
      "    src/components-->CodeEditor.jsx\n",
      "    src/components-->CreateClass.jsx\n",
      "    src/components-->Header.jsx\n",
      "    src/components-->Output.jsx\n",
      "    src/components-->SelectLanguage.jsx\n",
      "    src/components-->ToggleThemeButton.jsx\n",
      "    src/context-->ContextProvider.jsx\n",
      "    src/hooks-->useWindowSize.js\n",
      "    src/pages-->Editor.jsx\n",
      "    src/pages-->Home.jsx\n",
      "    src/pb-->pocketbase.js\n",
      "\n"
     ]
    }
   ],
   "source": [
    "mermaid_output = generate_file_tree_graph(file_tree)\n",
    "print(mermaid_output)"
   ]
  },
  {
   "cell_type": "code",
   "execution_count": 9,
   "metadata": {},
   "outputs": [
    {
     "name": "stdout",
     "output_type": "stream",
     "text": [
      "'```mermaid\n",
      "graph TD;\n",
      "    src-->public\n",
      "    src-->src\n",
      "    src-->assets\n",
      "    src-->components\n",
      "    src-->context\n",
      "    src-->hooks\n",
      "    src-->pages\n",
      "    src-->pb\n",
      "```'\n"
     ]
    }
   ],
   "source": [
    "\n",
    "print(\"'```mermaid\\ngraph TD;\\n    src-->public\\n    src-->src\\n    src-->assets\\n    src-->components\\n    src-->context\\n    src-->hooks\\n    src-->pages\\n    src-->pb\\n```'\")"
   ]
  }
 ],
 "metadata": {
  "kernelspec": {
   "display_name": "Python 3",
   "language": "python",
   "name": "python3"
  },
  "language_info": {
   "codemirror_mode": {
    "name": "ipython",
    "version": 3
   },
   "file_extension": ".py",
   "mimetype": "text/x-python",
   "name": "python",
   "nbconvert_exporter": "python",
   "pygments_lexer": "ipython3",
   "version": "3.10.13"
  }
 },
 "nbformat": 4,
 "nbformat_minor": 2
}
